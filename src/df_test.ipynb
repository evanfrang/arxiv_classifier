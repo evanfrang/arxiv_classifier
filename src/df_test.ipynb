{
 "cells": [
  {
   "cell_type": "code",
   "execution_count": 1,
   "id": "2ba83d21",
   "metadata": {},
   "outputs": [],
   "source": [
    "import pandas as pd\n",
    "from sklearn.feature_extraction.text import TfidfVectorizer\n",
    "from sklearn.linear_model import LogisticRegression\n",
    "from sklearn.model_selection import train_test_split\n",
    "from sklearn.preprocessing import LabelEncoder\n",
    "from sklearn.metrics import classification_report, accuracy_score, confusion_matrix\n",
    "from sklearn.utils.multiclass import unique_labels\n",
    "import numpy as np\n",
    "import pandas as pd\n",
    "import matplotlib.pyplot as plt\n",
    "import seaborn as sns\n",
    "from wordcloud import WordCloud"
   ]
  },
  {
   "cell_type": "code",
   "execution_count": null,
   "id": "5adcb712",
   "metadata": {},
   "outputs": [],
   "source": [
    "path = \"../data/raw/arxiv_2025-07-04_old.csv\"\n",
    "df = pd.read_csv(path)"
   ]
  },
  {
   "cell_type": "code",
   "execution_count": 6,
   "id": "8cb5ab92",
   "metadata": {},
   "outputs": [
    {
     "data": {
      "text/html": [
       "<div>\n",
       "<style scoped>\n",
       "    .dataframe tbody tr th:only-of-type {\n",
       "        vertical-align: middle;\n",
       "    }\n",
       "\n",
       "    .dataframe tbody tr th {\n",
       "        vertical-align: top;\n",
       "    }\n",
       "\n",
       "    .dataframe thead th {\n",
       "        text-align: right;\n",
       "    }\n",
       "</style>\n",
       "<table border=\"1\" class=\"dataframe\">\n",
       "  <thead>\n",
       "    <tr style=\"text-align: right;\">\n",
       "      <th></th>\n",
       "      <th>title</th>\n",
       "      <th>abstract</th>\n",
       "      <th>primary_category</th>\n",
       "      <th>published</th>\n",
       "    </tr>\n",
       "  </thead>\n",
       "  <tbody>\n",
       "    <tr>\n",
       "      <th>0</th>\n",
       "      <td>ML-based muon identification using a FNAL-NICA...</td>\n",
       "      <td>The ALICE Collaboration is planning to constru...</td>\n",
       "      <td>physics.ins-det</td>\n",
       "      <td>2025-07-03T17:32:39Z</td>\n",
       "    </tr>\n",
       "    <tr>\n",
       "      <th>1</th>\n",
       "      <td>Advancements in Computing and Simulation Techn...</td>\n",
       "      <td>The HIBEAM-NNBAR program is a proposed two-sta...</td>\n",
       "      <td>physics.ins-det</td>\n",
       "      <td>2025-07-03T17:20:10Z</td>\n",
       "    </tr>\n",
       "    <tr>\n",
       "      <th>2</th>\n",
       "      <td>Boosting the NOx production in microwave air p...</td>\n",
       "      <td>This study employs a quasi-1.5D multi-temperat...</td>\n",
       "      <td>physics.plasm-ph</td>\n",
       "      <td>2025-07-03T16:57:22Z</td>\n",
       "    </tr>\n",
       "    <tr>\n",
       "      <th>3</th>\n",
       "      <td>Quasinormal modes of Floquet media slabs</td>\n",
       "      <td>Exploiting non-Hermitian wave-matter interacti...</td>\n",
       "      <td>physics.optics</td>\n",
       "      <td>2025-07-03T16:49:30Z</td>\n",
       "    </tr>\n",
       "    <tr>\n",
       "      <th>4</th>\n",
       "      <td>Computational Modelling of Thixotropic Multiph...</td>\n",
       "      <td>Multiphase systems are ubiquitous in engineeri...</td>\n",
       "      <td>physics.flu-dyn</td>\n",
       "      <td>2025-07-03T16:25:43Z</td>\n",
       "    </tr>\n",
       "  </tbody>\n",
       "</table>\n",
       "</div>"
      ],
      "text/plain": [
       "                                               title  \\\n",
       "0  ML-based muon identification using a FNAL-NICA...   \n",
       "1  Advancements in Computing and Simulation Techn...   \n",
       "2  Boosting the NOx production in microwave air p...   \n",
       "3           Quasinormal modes of Floquet media slabs   \n",
       "4  Computational Modelling of Thixotropic Multiph...   \n",
       "\n",
       "                                            abstract  primary_category  \\\n",
       "0  The ALICE Collaboration is planning to constru...   physics.ins-det   \n",
       "1  The HIBEAM-NNBAR program is a proposed two-sta...   physics.ins-det   \n",
       "2  This study employs a quasi-1.5D multi-temperat...  physics.plasm-ph   \n",
       "3  Exploiting non-Hermitian wave-matter interacti...    physics.optics   \n",
       "4  Multiphase systems are ubiquitous in engineeri...   physics.flu-dyn   \n",
       "\n",
       "              published  \n",
       "0  2025-07-03T17:32:39Z  \n",
       "1  2025-07-03T17:20:10Z  \n",
       "2  2025-07-03T16:57:22Z  \n",
       "3  2025-07-03T16:49:30Z  \n",
       "4  2025-07-03T16:25:43Z  "
      ]
     },
     "execution_count": 6,
     "metadata": {},
     "output_type": "execute_result"
    }
   ],
   "source": [
    "df.head()"
   ]
  },
  {
   "cell_type": "code",
   "execution_count": 9,
   "id": "ce1ce5c6",
   "metadata": {},
   "outputs": [
    {
     "data": {
      "text/plain": [
       "0      physics.ins-det\n",
       "1      physics.ins-det\n",
       "2     physics.plasm-ph\n",
       "3       physics.optics\n",
       "4      physics.flu-dyn\n",
       "5    cond-mat.mes-hall\n",
       "6       physics.optics\n",
       "7       physics.soc-ph\n",
       "8       physics.optics\n",
       "9      physics.chem-ph\n",
       "Name: primary_category, dtype: object"
      ]
     },
     "execution_count": 9,
     "metadata": {},
     "output_type": "execute_result"
    }
   ],
   "source": [
    "df['primary_category']"
   ]
  },
  {
   "cell_type": "code",
   "execution_count": 12,
   "id": "2678fe7d",
   "metadata": {},
   "outputs": [],
   "source": [
    "generalized_cats = ['astrophysics', 'condensed_matter', 'hep_grav', 'math', 'nonlinear', 'nuclear', 'general_phys', 'quantum', 'other']"
   ]
  },
  {
   "cell_type": "code",
   "execution_count": 13,
   "id": "990f7eb1",
   "metadata": {},
   "outputs": [],
   "source": [
    "category_map = {\n",
    "    \"physics\": \"general_physics\",\n",
    "    \"cond-mat\": \"condensed_matter\",\n",
    "    \"astro-ph\": \"astrophysics\",\n",
    "    \"gr-qc\": \"hep_grav\",\n",
    "    \"hep-ex\": \"hep_grav\",\n",
    "    \"hep-ph\": \"hep_grav\",\n",
    "    \"hep-th\": \"hep_grav\",\n",
    "    \"hep-lat\": \"hep_grav\",\n",
    "    \"math-ph\": \"math\",\n",
    "    \"nlin\": \"nonlinear\",\n",
    "    \"nucl-ex\": \"nuclear\",\n",
    "    \"nucl-th\": \"nuclear\",\n",
    "    \"quant-ph\": \"quantum\",\n",
    "\n",
    "}"
   ]
  },
  {
   "cell_type": "code",
   "execution_count": 16,
   "id": "e0170f5a",
   "metadata": {},
   "outputs": [],
   "source": [
    "def recategorize(arxiv_cat):\n",
    "    key = arxiv_cat.split('.')[0]\n",
    "    return category_map.get(key, 'other')"
   ]
  },
  {
   "cell_type": "code",
   "execution_count": 17,
   "id": "7919404f",
   "metadata": {},
   "outputs": [],
   "source": [
    "df[\"broad_category\"] = df[\"primary_category\"].apply(recategorize)"
   ]
  },
  {
   "cell_type": "code",
   "execution_count": 18,
   "id": "8eaca624",
   "metadata": {},
   "outputs": [
    {
     "data": {
      "text/plain": [
       "0     general_physics\n",
       "1     general_physics\n",
       "2     general_physics\n",
       "3     general_physics\n",
       "4     general_physics\n",
       "5    condensed_matter\n",
       "6     general_physics\n",
       "7     general_physics\n",
       "8     general_physics\n",
       "9     general_physics\n",
       "Name: broad_category, dtype: object"
      ]
     },
     "execution_count": 18,
     "metadata": {},
     "output_type": "execute_result"
    }
   ],
   "source": [
    "df['broad_category']"
   ]
  },
  {
   "cell_type": "code",
   "execution_count": null,
   "id": "09cc860a",
   "metadata": {},
   "outputs": [],
   "source": []
  }
 ],
 "metadata": {
  "kernelspec": {
   "display_name": "arxiv",
   "language": "python",
   "name": "python3"
  },
  "language_info": {
   "codemirror_mode": {
    "name": "ipython",
    "version": 3
   },
   "file_extension": ".py",
   "mimetype": "text/x-python",
   "name": "python",
   "nbconvert_exporter": "python",
   "pygments_lexer": "ipython3",
   "version": "3.12.11"
  }
 },
 "nbformat": 4,
 "nbformat_minor": 5
}
