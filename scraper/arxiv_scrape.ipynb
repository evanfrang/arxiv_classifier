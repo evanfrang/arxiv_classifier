{
 "cells": [
  {
   "cell_type": "code",
   "execution_count": 58,
   "id": "8f4669e5",
   "metadata": {},
   "outputs": [],
   "source": [
    "import feedparser\n",
    "import pandas as pd\n",
    "from datetime import datetime\n",
    "import urllib.parse\n",
    "import time\n",
    "from collections import Counter\n",
    "import matplotlib.pyplot as plt"
   ]
  },
  {
   "cell_type": "code",
   "execution_count": 59,
   "id": "7e94ea84",
   "metadata": {},
   "outputs": [],
   "source": [
    "def fetch_arxiv_papers(categories, max_results=100):\n",
    "    \n",
    "    base_url = \"http://export.arxiv.org/api/query?\"\n",
    "    raw_query = \" OR \".join([f\"cat:{cat}\" for cat in categories])\n",
    "    encoded_query = urllib.parse.quote(raw_query)\n",
    "\n",
    "    search_query = f\"search_query={encoded_query}&start=0&max_results={max_results}&sortBy=submittedDate&sortOrder=descending\"\n",
    "    feed_url = base_url + search_query\n",
    "\n",
    "    print(f\"Fetching from: {feed_url}\")\n",
    "    feed = feedparser.parse(feed_url)\n",
    "\n",
    "    papers = []\n",
    "    for entry in feed.entries:\n",
    "        time.sleep(3)\n",
    "        primary_cat = entry.arxiv_primary_category['term']\n",
    "        if primary_cat not in categories:\n",
    "            continue\n",
    "        paper = {\n",
    "            \"title\": entry.title.strip().replace('\\n', ' '),\n",
    "            \"abstract\": entry.summary.strip().replace('\\n', ' '),\n",
    "            \"primary_category\": primary_cat\n",
    "        }\n",
    "        papers.append(paper)\n",
    "    \n",
    "    return pd.DataFrame(papers)\n"
   ]
  },
  {
   "cell_type": "code",
   "execution_count": null,
   "id": "8815b364",
   "metadata": {},
   "outputs": [
    {
     "name": "stdout",
     "output_type": "stream",
     "text": [
      "Fetching from: http://export.arxiv.org/api/query?search_query=cat%3Agr-qc%20OR%20cat%3Ahep-th%20OR%20cat%3Ahep-ph&start=0&max_results=2000&sortBy=submittedDate&sortOrder=descending\n"
     ]
    }
   ],
   "source": [
    "categories = ['gr-qc', 'hep-th', 'hep-ph']\n",
    "df = fetch_arxiv_papers(categories, 2000)\n",
    "now = datetime.now().strftime(\"%Y-%m-%d_%H-%M-%S\")\n",
    "output_path = f\"arxiv_physics_{now}.csv\"\n",
    "df.to_csv(output_path, index=False)\n",
    "print(f\"Saved {len(df)} papers to {output_path}\")"
   ]
  },
  {
   "cell_type": "code",
   "execution_count": null,
   "id": "e18d380b",
   "metadata": {},
   "outputs": [
    {
     "data": {
      "text/plain": [
       "array(['hep-ph', 'hep-th', 'gr-qc'], dtype=object)"
      ]
     },
     "execution_count": 64,
     "metadata": {},
     "output_type": "execute_result"
    }
   ],
   "source": [
    "df['primary_category'].unique()"
   ]
  },
  {
   "cell_type": "code",
   "execution_count": null,
   "id": "bec422ff",
   "metadata": {},
   "outputs": [
    {
     "data": {
      "text/plain": [
       "<Axes: xlabel='primary_category'>"
      ]
     },
     "execution_count": 65,
     "metadata": {},
     "output_type": "execute_result"
    },
    {
     "data": {
      "image/png": "[encoded data removed]",
      "text/plain": [
       "<Figure size 640x480 with 1 Axes>"
      ]
     },
     "metadata": {},
     "output_type": "display_data"
    }
   ],
   "source": [
    "df['primary_category'].value_counts().plot(kind='bar')"
   ]
  },
  {
   "cell_type": "code",
   "execution_count": null,
   "id": "0ff3d23f",
   "metadata": {},
   "outputs": [],
   "source": []
  }
 ],
 "metadata": {
  "kernelspec": {
   "display_name": "venv",
   "language": "python",
   "name": "python3"
  },
  "language_info": {
   "codemirror_mode": {
    "name": "ipython",
    "version": 3
   },
   "file_extension": ".py",
   "mimetype": "text/x-python",
   "name": "python",
   "nbconvert_exporter": "python",
   "pygments_lexer": "ipython3",
   "version": "3.9.12"
  }
 },
 "nbformat": 4,
 "nbformat_minor": 5
}
